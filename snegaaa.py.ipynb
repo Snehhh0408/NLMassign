{
  "nbformat": 4,
  "nbformat_minor": 0,
  "metadata": {
    "colab": {
      "provenance": []
    },
    "kernelspec": {
      "name": "python3",
      "display_name": "Python 3"
    },
    "language_info": {
      "name": "python"
    }
  },
  "cells": [
    {
      "cell_type": "code",
      "execution_count": 1,
      "metadata": {
        "id": "-FjHApoXOeqo"
      },
      "outputs": [],
      "source": [
        "import nltk\n",
        "import re"
      ]
    },
    {
      "cell_type": "code",
      "source": [
        "filename = '/content/kdrama.txt'\n",
        "file = open(filename,'r',encoding=\"utf-8\")"
      ],
      "metadata": {
        "id": "DTUaN2WyOg9N"
      },
      "execution_count": 2,
      "outputs": []
    },
    {
      "cell_type": "code",
      "source": [
        "text = file.read()\n",
        "text = text.replace(\"\\n\",\" \")"
      ],
      "metadata": {
        "id": "vERmyAtKPFlh"
      },
      "execution_count": 3,
      "outputs": []
    },
    {
      "cell_type": "code",
      "source": [
        "nltk.download('punkt')"
      ],
      "metadata": {
        "colab": {
          "base_uri": "https://localhost:8080/"
        },
        "id": "kGkVcmKfPIBU",
        "outputId": "ee021f9e-b6fb-4d00-e19b-6ef95ae0a762"
      },
      "execution_count": 4,
      "outputs": [
        {
          "output_type": "stream",
          "name": "stderr",
          "text": [
            "[nltk_data] Downloading package punkt to /root/nltk_data...\n",
            "[nltk_data]   Unzipping tokenizers/punkt.zip.\n"
          ]
        },
        {
          "output_type": "execute_result",
          "data": {
            "text/plain": [
              "True"
            ]
          },
          "metadata": {},
          "execution_count": 4
        }
      ]
    },
    {
      "cell_type": "code",
      "source": [
        "print(text)"
      ],
      "metadata": {
        "colab": {
          "base_uri": "https://localhost:8080/"
        },
        "id": "uCpWjKo1PL1q",
        "outputId": "3494b510-a099-4b99-9a29-c6a5cb538f2a"
      },
      "execution_count": 5,
      "outputs": [
        {
          "output_type": "stream",
          "name": "stdout",
          "text": [
            "As producing a series involves high expenses, production companies seek to shoot the episodes in the shortest time possible. In contrast to practices elsewhere, the first four episodes of Korean series are usually shot in advance, but the rest are shot continuously as the series is being aired. Scripts are not finished in advance, and may change according to viewer feedback and viewership ratings, where popular characters receive increased screen time and plotlines are changed to match audience expectations.[49] These changes may occur a few hours before daily shooting, and the crew might receive only a few ready pages. The production usually works with three camera crews, who work in a rotating manner to speed up filming. Because of unregulated script changes and tight shooting schedules, actors are almost continuously on standby, and have no time to leave the set or sleep properly. The Korean media have a separate word to describe irregular, short sleeps that actors resort to, in often uncomfortable positions, or within the set: jjok-jam (쪽잠), or \"side-sleeping\". Dramas usually air on two days every week, with following episodes having to be shot within the intervening five days. Some Korean actors have admitted to receiving IV therapy during filming, due to extreme schedules and exhaustion.[43][50][51] Nonetheless, the live-shoot model remains widely used since the production team can react to real time audience feedback.[49]  Production teams originally sent two tapes to the channels; a primary copy and a backup copy. However, due to the tight filming schedules, a 70-minute episode might arrive at the broadcasting station on seven separate tapes in ten-minute installments. It happened that while the episode is being broadcast, the crew would be still shooting the last minutes or cutting the rest of the episode. During the airing of the nineteenth episode of Man from the Equator, screens countrywide went black for 10 minutes. Actor Kwon Sang-woo was openly complaining that he was still shooting King of Ambition 30 minutes before the last episode began airing.[43] In South Korea, some production teams still do planning and scheduling manually, instead of using dedicated software.[52]  In 2016, dramas such as Descendants of the Sun, Uncontrollably Fond, Moon Lovers: Scarlet Heart Ryeo and Hwarang: The Poet Warrior Youth were all pre-produced before airing. Nonetheless, some pre-produced episodes are often re-edited or even reshot the day of airing, due to audience feedback.[49]\n"
          ]
        }
      ]
    },
    {
      "cell_type": "code",
      "source": [
        "from nltk.tokenize import sent_tokenize\n",
        "sent_tk = sent_tokenize(text)\n",
        "print(sent_tk)\n"
      ],
      "metadata": {
        "colab": {
          "base_uri": "https://localhost:8080/"
        },
        "id": "hBUskSezlxHr",
        "outputId": "bb112e22-c099-4fbe-9d02-5fb8665c8704"
      },
      "execution_count": 6,
      "outputs": [
        {
          "output_type": "stream",
          "name": "stdout",
          "text": [
            "['As producing a series involves high expenses, production companies seek to shoot the episodes in the shortest time possible.', 'In contrast to practices elsewhere, the first four episodes of Korean series are usually shot in advance, but the rest are shot continuously as the series is being aired.', 'Scripts are not finished in advance, and may change according to viewer feedback and viewership ratings, where popular characters receive increased screen time and plotlines are changed to match audience expectations.', '[49] These changes may occur a few hours before daily shooting, and the crew might receive only a few ready pages.', 'The production usually works with three camera crews, who work in a rotating manner to speed up filming.', 'Because of unregulated script changes and tight shooting schedules, actors are almost continuously on standby, and have no time to leave the set or sleep properly.', 'The Korean media have a separate word to describe irregular, short sleeps that actors resort to, in often uncomfortable positions, or within the set: jjok-jam (쪽잠), or \"side-sleeping\".', 'Dramas usually air on two days every week, with following episodes having to be shot within the intervening five days.', 'Some Korean actors have admitted to receiving IV therapy during filming, due to extreme schedules and exhaustion.', '[43][50][51] Nonetheless, the live-shoot model remains widely used since the production team can react to real time audience feedback.', '[49]  Production teams originally sent two tapes to the channels; a primary copy and a backup copy.', 'However, due to the tight filming schedules, a 70-minute episode might arrive at the broadcasting station on seven separate tapes in ten-minute installments.', 'It happened that while the episode is being broadcast, the crew would be still shooting the last minutes or cutting the rest of the episode.', 'During the airing of the nineteenth episode of Man from the Equator, screens countrywide went black for 10 minutes.', 'Actor Kwon Sang-woo was openly complaining that he was still shooting King of Ambition 30 minutes before the last episode began airing.', '[43] In South Korea, some production teams still do planning and scheduling manually, instead of using dedicated software.', '[52]  In 2016, dramas such as Descendants of the Sun, Uncontrollably Fond, Moon Lovers: Scarlet Heart Ryeo and Hwarang: The Poet Warrior Youth were all pre-produced before airing.', 'Nonetheless, some pre-produced episodes are often re-edited or even reshot the day of airing, due to audience feedback.', '[49]']\n"
          ]
        }
      ]
    },
    {
      "cell_type": "code",
      "source": [
        "from nltk.tokenize import word_tokenize\n",
        "word_tk = word_tokenize(text)\n",
        "print(word_tk)\n"
      ],
      "metadata": {
        "colab": {
          "base_uri": "https://localhost:8080/"
        },
        "id": "zAEmzxUtmDdU",
        "outputId": "5ef3835d-4f9a-4ac5-e85e-f93c0e2697ac"
      },
      "execution_count": 7,
      "outputs": [
        {
          "output_type": "stream",
          "name": "stdout",
          "text": [
            "['As', 'producing', 'a', 'series', 'involves', 'high', 'expenses', ',', 'production', 'companies', 'seek', 'to', 'shoot', 'the', 'episodes', 'in', 'the', 'shortest', 'time', 'possible', '.', 'In', 'contrast', 'to', 'practices', 'elsewhere', ',', 'the', 'first', 'four', 'episodes', 'of', 'Korean', 'series', 'are', 'usually', 'shot', 'in', 'advance', ',', 'but', 'the', 'rest', 'are', 'shot', 'continuously', 'as', 'the', 'series', 'is', 'being', 'aired', '.', 'Scripts', 'are', 'not', 'finished', 'in', 'advance', ',', 'and', 'may', 'change', 'according', 'to', 'viewer', 'feedback', 'and', 'viewership', 'ratings', ',', 'where', 'popular', 'characters', 'receive', 'increased', 'screen', 'time', 'and', 'plotlines', 'are', 'changed', 'to', 'match', 'audience', 'expectations', '.', '[', '49', ']', 'These', 'changes', 'may', 'occur', 'a', 'few', 'hours', 'before', 'daily', 'shooting', ',', 'and', 'the', 'crew', 'might', 'receive', 'only', 'a', 'few', 'ready', 'pages', '.', 'The', 'production', 'usually', 'works', 'with', 'three', 'camera', 'crews', ',', 'who', 'work', 'in', 'a', 'rotating', 'manner', 'to', 'speed', 'up', 'filming', '.', 'Because', 'of', 'unregulated', 'script', 'changes', 'and', 'tight', 'shooting', 'schedules', ',', 'actors', 'are', 'almost', 'continuously', 'on', 'standby', ',', 'and', 'have', 'no', 'time', 'to', 'leave', 'the', 'set', 'or', 'sleep', 'properly', '.', 'The', 'Korean', 'media', 'have', 'a', 'separate', 'word', 'to', 'describe', 'irregular', ',', 'short', 'sleeps', 'that', 'actors', 'resort', 'to', ',', 'in', 'often', 'uncomfortable', 'positions', ',', 'or', 'within', 'the', 'set', ':', 'jjok-jam', '(', '쪽잠', ')', ',', 'or', '``', 'side-sleeping', \"''\", '.', 'Dramas', 'usually', 'air', 'on', 'two', 'days', 'every', 'week', ',', 'with', 'following', 'episodes', 'having', 'to', 'be', 'shot', 'within', 'the', 'intervening', 'five', 'days', '.', 'Some', 'Korean', 'actors', 'have', 'admitted', 'to', 'receiving', 'IV', 'therapy', 'during', 'filming', ',', 'due', 'to', 'extreme', 'schedules', 'and', 'exhaustion', '.', '[', '43', ']', '[', '50', ']', '[', '51', ']', 'Nonetheless', ',', 'the', 'live-shoot', 'model', 'remains', 'widely', 'used', 'since', 'the', 'production', 'team', 'can', 'react', 'to', 'real', 'time', 'audience', 'feedback', '.', '[', '49', ']', 'Production', 'teams', 'originally', 'sent', 'two', 'tapes', 'to', 'the', 'channels', ';', 'a', 'primary', 'copy', 'and', 'a', 'backup', 'copy', '.', 'However', ',', 'due', 'to', 'the', 'tight', 'filming', 'schedules', ',', 'a', '70-minute', 'episode', 'might', 'arrive', 'at', 'the', 'broadcasting', 'station', 'on', 'seven', 'separate', 'tapes', 'in', 'ten-minute', 'installments', '.', 'It', 'happened', 'that', 'while', 'the', 'episode', 'is', 'being', 'broadcast', ',', 'the', 'crew', 'would', 'be', 'still', 'shooting', 'the', 'last', 'minutes', 'or', 'cutting', 'the', 'rest', 'of', 'the', 'episode', '.', 'During', 'the', 'airing', 'of', 'the', 'nineteenth', 'episode', 'of', 'Man', 'from', 'the', 'Equator', ',', 'screens', 'countrywide', 'went', 'black', 'for', '10', 'minutes', '.', 'Actor', 'Kwon', 'Sang-woo', 'was', 'openly', 'complaining', 'that', 'he', 'was', 'still', 'shooting', 'King', 'of', 'Ambition', '30', 'minutes', 'before', 'the', 'last', 'episode', 'began', 'airing', '.', '[', '43', ']', 'In', 'South', 'Korea', ',', 'some', 'production', 'teams', 'still', 'do', 'planning', 'and', 'scheduling', 'manually', ',', 'instead', 'of', 'using', 'dedicated', 'software', '.', '[', '52', ']', 'In', '2016', ',', 'dramas', 'such', 'as', 'Descendants', 'of', 'the', 'Sun', ',', 'Uncontrollably', 'Fond', ',', 'Moon', 'Lovers', ':', 'Scarlet', 'Heart', 'Ryeo', 'and', 'Hwarang', ':', 'The', 'Poet', 'Warrior', 'Youth', 'were', 'all', 'pre-produced', 'before', 'airing', '.', 'Nonetheless', ',', 'some', 'pre-produced', 'episodes', 'are', 'often', 're-edited', 'or', 'even', 'reshot', 'the', 'day', 'of', 'airing', ',', 'due', 'to', 'audience', 'feedback', '.', '[', '49', ']']\n"
          ]
        }
      ]
    },
    {
      "cell_type": "code",
      "source": [
        "nltk.download('stopwords')\n",
        "from nltk.corpus import stopwords\n",
        "sw = set(stopwords.words(\"english\"))\n",
        "print(sw)"
      ],
      "metadata": {
        "colab": {
          "base_uri": "https://localhost:8080/"
        },
        "id": "hO_WmZ-YmX66",
        "outputId": "46e36a3e-7536-4fb4-d015-1b231f2a2695"
      },
      "execution_count": 8,
      "outputs": [
        {
          "output_type": "stream",
          "name": "stdout",
          "text": [
            "{'its', 'theirs', 've', 'few', 'same', 'each', \"that'll\", \"doesn't\", 'itself', \"should've\", 'why', 'aren', 'no', 'had', 'his', 'only', 'haven', 'own', 'he', 'themselves', 'can', 'at', 'm', 'nor', 'these', \"needn't\", 'were', 'weren', 'does', 'do', 'mustn', 'ain', 'of', 'those', 'other', 'am', 'your', 'all', 'hadn', 'but', 'most', 'didn', \"isn't\", 'her', \"hasn't\", 'out', 'the', 'ma', \"mightn't\", 'again', 'as', \"you're\", 'they', 'hasn', 'we', 'our', 'has', 'between', 'won', 'was', 'mightn', 'until', 'yourselves', 'ourselves', 'where', 'y', 'against', 'some', 'my', 'too', 'having', 'she', 'should', 'which', 'their', \"wasn't\", 'any', \"you'd\", 's', 'me', \"shouldn't\", 'with', 'now', 're', 't', 'so', 'yourself', 'don', 'off', 'both', 'more', 'yours', \"she's\", 'be', 'up', 'will', 'while', 'it', 'o', 'you', 'above', 'there', 'below', 'further', 'are', 'under', \"won't\", 'by', 'who', 'very', 'wouldn', 'into', 'not', 'just', 'himself', 'or', 'this', 'in', 'and', 'to', 'is', \"don't\", 'how', 'after', 'ours', 'i', \"aren't\", 'for', 'on', 'down', 'have', 'll', 'such', \"wouldn't\", \"couldn't\", 'them', 'about', 'hers', 'during', 'needn', 'wasn', \"shan't\", 'through', 'here', 'a', 'that', \"you'll\", 'isn', 'being', \"you've\", 'an', \"didn't\", 'whom', 'when', \"hadn't\", 'shan', 'been', 'before', 'herself', 'once', 'couldn', \"weren't\", 'than', \"mustn't\", 'myself', \"it's\", 'doesn', 'because', 'him', 'd', 'did', 'doing', 'over', 'from', 'then', 'what', 'shouldn', \"haven't\", 'if'}\n"
          ]
        },
        {
          "output_type": "stream",
          "name": "stderr",
          "text": [
            "[nltk_data] Downloading package stopwords to /root/nltk_data...\n",
            "[nltk_data]   Unzipping corpora/stopwords.zip.\n"
          ]
        }
      ]
    },
    {
      "cell_type": "code",
      "source": [
        "filter_words = [word for word in word_tk if not word in sw]\n",
        "print(filter_words)"
      ],
      "metadata": {
        "colab": {
          "base_uri": "https://localhost:8080/"
        },
        "id": "07ETj8hVmzxb",
        "outputId": "81748aa2-f21d-43dd-f2ba-0e36e86b5a83"
      },
      "execution_count": 9,
      "outputs": [
        {
          "output_type": "stream",
          "name": "stdout",
          "text": [
            "['As', 'producing', 'series', 'involves', 'high', 'expenses', ',', 'production', 'companies', 'seek', 'shoot', 'episodes', 'shortest', 'time', 'possible', '.', 'In', 'contrast', 'practices', 'elsewhere', ',', 'first', 'four', 'episodes', 'Korean', 'series', 'usually', 'shot', 'advance', ',', 'rest', 'shot', 'continuously', 'series', 'aired', '.', 'Scripts', 'finished', 'advance', ',', 'may', 'change', 'according', 'viewer', 'feedback', 'viewership', 'ratings', ',', 'popular', 'characters', 'receive', 'increased', 'screen', 'time', 'plotlines', 'changed', 'match', 'audience', 'expectations', '.', '[', '49', ']', 'These', 'changes', 'may', 'occur', 'hours', 'daily', 'shooting', ',', 'crew', 'might', 'receive', 'ready', 'pages', '.', 'The', 'production', 'usually', 'works', 'three', 'camera', 'crews', ',', 'work', 'rotating', 'manner', 'speed', 'filming', '.', 'Because', 'unregulated', 'script', 'changes', 'tight', 'shooting', 'schedules', ',', 'actors', 'almost', 'continuously', 'standby', ',', 'time', 'leave', 'set', 'sleep', 'properly', '.', 'The', 'Korean', 'media', 'separate', 'word', 'describe', 'irregular', ',', 'short', 'sleeps', 'actors', 'resort', ',', 'often', 'uncomfortable', 'positions', ',', 'within', 'set', ':', 'jjok-jam', '(', '쪽잠', ')', ',', '``', 'side-sleeping', \"''\", '.', 'Dramas', 'usually', 'air', 'two', 'days', 'every', 'week', ',', 'following', 'episodes', 'shot', 'within', 'intervening', 'five', 'days', '.', 'Some', 'Korean', 'actors', 'admitted', 'receiving', 'IV', 'therapy', 'filming', ',', 'due', 'extreme', 'schedules', 'exhaustion', '.', '[', '43', ']', '[', '50', ']', '[', '51', ']', 'Nonetheless', ',', 'live-shoot', 'model', 'remains', 'widely', 'used', 'since', 'production', 'team', 'react', 'real', 'time', 'audience', 'feedback', '.', '[', '49', ']', 'Production', 'teams', 'originally', 'sent', 'two', 'tapes', 'channels', ';', 'primary', 'copy', 'backup', 'copy', '.', 'However', ',', 'due', 'tight', 'filming', 'schedules', ',', '70-minute', 'episode', 'might', 'arrive', 'broadcasting', 'station', 'seven', 'separate', 'tapes', 'ten-minute', 'installments', '.', 'It', 'happened', 'episode', 'broadcast', ',', 'crew', 'would', 'still', 'shooting', 'last', 'minutes', 'cutting', 'rest', 'episode', '.', 'During', 'airing', 'nineteenth', 'episode', 'Man', 'Equator', ',', 'screens', 'countrywide', 'went', 'black', '10', 'minutes', '.', 'Actor', 'Kwon', 'Sang-woo', 'openly', 'complaining', 'still', 'shooting', 'King', 'Ambition', '30', 'minutes', 'last', 'episode', 'began', 'airing', '.', '[', '43', ']', 'In', 'South', 'Korea', ',', 'production', 'teams', 'still', 'planning', 'scheduling', 'manually', ',', 'instead', 'using', 'dedicated', 'software', '.', '[', '52', ']', 'In', '2016', ',', 'dramas', 'Descendants', 'Sun', ',', 'Uncontrollably', 'Fond', ',', 'Moon', 'Lovers', ':', 'Scarlet', 'Heart', 'Ryeo', 'Hwarang', ':', 'The', 'Poet', 'Warrior', 'Youth', 'pre-produced', 'airing', '.', 'Nonetheless', ',', 'pre-produced', 'episodes', 'often', 're-edited', 'even', 'reshot', 'day', 'airing', ',', 'due', 'audience', 'feedback', '.', '[', '49', ']']\n"
          ]
        }
      ]
    },
    {
      "cell_type": "code",
      "source": [
        "lower_clean_data = []\n",
        "for w in filter_words:\n",
        "  lower_clean_data.append(w.lower())\n",
        "print(lower_clean_data)  "
      ],
      "metadata": {
        "colab": {
          "base_uri": "https://localhost:8080/"
        },
        "id": "rT1E9LhfnMu9",
        "outputId": "b259c57f-1938-4f6b-c6c1-eaf8ea6f9f13"
      },
      "execution_count": 10,
      "outputs": [
        {
          "output_type": "stream",
          "name": "stdout",
          "text": [
            "['as', 'producing', 'series', 'involves', 'high', 'expenses', ',', 'production', 'companies', 'seek', 'shoot', 'episodes', 'shortest', 'time', 'possible', '.', 'in', 'contrast', 'practices', 'elsewhere', ',', 'first', 'four', 'episodes', 'korean', 'series', 'usually', 'shot', 'advance', ',', 'rest', 'shot', 'continuously', 'series', 'aired', '.', 'scripts', 'finished', 'advance', ',', 'may', 'change', 'according', 'viewer', 'feedback', 'viewership', 'ratings', ',', 'popular', 'characters', 'receive', 'increased', 'screen', 'time', 'plotlines', 'changed', 'match', 'audience', 'expectations', '.', '[', '49', ']', 'these', 'changes', 'may', 'occur', 'hours', 'daily', 'shooting', ',', 'crew', 'might', 'receive', 'ready', 'pages', '.', 'the', 'production', 'usually', 'works', 'three', 'camera', 'crews', ',', 'work', 'rotating', 'manner', 'speed', 'filming', '.', 'because', 'unregulated', 'script', 'changes', 'tight', 'shooting', 'schedules', ',', 'actors', 'almost', 'continuously', 'standby', ',', 'time', 'leave', 'set', 'sleep', 'properly', '.', 'the', 'korean', 'media', 'separate', 'word', 'describe', 'irregular', ',', 'short', 'sleeps', 'actors', 'resort', ',', 'often', 'uncomfortable', 'positions', ',', 'within', 'set', ':', 'jjok-jam', '(', '쪽잠', ')', ',', '``', 'side-sleeping', \"''\", '.', 'dramas', 'usually', 'air', 'two', 'days', 'every', 'week', ',', 'following', 'episodes', 'shot', 'within', 'intervening', 'five', 'days', '.', 'some', 'korean', 'actors', 'admitted', 'receiving', 'iv', 'therapy', 'filming', ',', 'due', 'extreme', 'schedules', 'exhaustion', '.', '[', '43', ']', '[', '50', ']', '[', '51', ']', 'nonetheless', ',', 'live-shoot', 'model', 'remains', 'widely', 'used', 'since', 'production', 'team', 'react', 'real', 'time', 'audience', 'feedback', '.', '[', '49', ']', 'production', 'teams', 'originally', 'sent', 'two', 'tapes', 'channels', ';', 'primary', 'copy', 'backup', 'copy', '.', 'however', ',', 'due', 'tight', 'filming', 'schedules', ',', '70-minute', 'episode', 'might', 'arrive', 'broadcasting', 'station', 'seven', 'separate', 'tapes', 'ten-minute', 'installments', '.', 'it', 'happened', 'episode', 'broadcast', ',', 'crew', 'would', 'still', 'shooting', 'last', 'minutes', 'cutting', 'rest', 'episode', '.', 'during', 'airing', 'nineteenth', 'episode', 'man', 'equator', ',', 'screens', 'countrywide', 'went', 'black', '10', 'minutes', '.', 'actor', 'kwon', 'sang-woo', 'openly', 'complaining', 'still', 'shooting', 'king', 'ambition', '30', 'minutes', 'last', 'episode', 'began', 'airing', '.', '[', '43', ']', 'in', 'south', 'korea', ',', 'production', 'teams', 'still', 'planning', 'scheduling', 'manually', ',', 'instead', 'using', 'dedicated', 'software', '.', '[', '52', ']', 'in', '2016', ',', 'dramas', 'descendants', 'sun', ',', 'uncontrollably', 'fond', ',', 'moon', 'lovers', ':', 'scarlet', 'heart', 'ryeo', 'hwarang', ':', 'the', 'poet', 'warrior', 'youth', 'pre-produced', 'airing', '.', 'nonetheless', ',', 'pre-produced', 'episodes', 'often', 're-edited', 'even', 'reshot', 'day', 'airing', ',', 'due', 'audience', 'feedback', '.', '[', '49', ']']\n"
          ]
        }
      ]
    },
    {
      "cell_type": "code",
      "source": [
        "from textblob import Word\n",
        "nltk.download('wordnet')\n",
        "nltk.download('omw-1.4')"
      ],
      "metadata": {
        "colab": {
          "base_uri": "https://localhost:8080/"
        },
        "id": "VW3J4h6nn5p6",
        "outputId": "91ea6759-a36e-418a-be79-192e48065047"
      },
      "execution_count": 11,
      "outputs": [
        {
          "output_type": "stream",
          "name": "stderr",
          "text": [
            "[nltk_data] Downloading package wordnet to /root/nltk_data...\n",
            "[nltk_data] Downloading package omw-1.4 to /root/nltk_data...\n"
          ]
        },
        {
          "output_type": "execute_result",
          "data": {
            "text/plain": [
              "True"
            ]
          },
          "metadata": {},
          "execution_count": 11
        }
      ]
    },
    {
      "cell_type": "code",
      "source": [
        "clean_filter = \"\".join(Word(word).lemmatize() for word in str(lower_clean_data).split())\n",
        "print(clean_filter)"
      ],
      "metadata": {
        "colab": {
          "base_uri": "https://localhost:8080/"
        },
        "id": "giy9a5IprurO",
        "outputId": "12ad5e16-0553-4198-a4b5-385534a9c026"
      },
      "execution_count": 12,
      "outputs": [
        {
          "output_type": "stream",
          "name": "stdout",
          "text": [
            "['as','producing','series','involves','high','expenses',',','production','companies','seek','shoot','episodes','shortest','time','possible','.','in','contrast','practices','elsewhere',',','first','four','episodes','korean','series','usually','shot','advance',',','rest','shot','continuously','series','aired','.','scripts','finished','advance',',','may','change','according','viewer','feedback','viewership','ratings',',','popular','characters','receive','increased','screen','time','plotlines','changed','match','audience','expectations','.','[','49',']','these','changes','may','occur','hours','daily','shooting',',','crew','might','receive','ready','pages','.','the','production','usually','works','three','camera','crews',',','work','rotating','manner','speed','filming','.','because','unregulated','script','changes','tight','shooting','schedules',',','actors','almost','continuously','standby',',','time','leave','set','sleep','properly','.','the','korean','media','separate','word','describe','irregular',',','short','sleeps','actors','resort',',','often','uncomfortable','positions',',','within','set',':','jjok-jam','(','쪽잠',')',',','``','side-sleeping',\"''\",'.','dramas','usually','air','two','days','every','week',',','following','episodes','shot','within','intervening','five','days','.','some','korean','actors','admitted','receiving','iv','therapy','filming',',','due','extreme','schedules','exhaustion','.','[','43',']','[','50',']','[','51',']','nonetheless',',','live-shoot','model','remains','widely','used','since','production','team','react','real','time','audience','feedback','.','[','49',']','production','teams','originally','sent','two','tapes','channels',';','primary','copy','backup','copy','.','however',',','due','tight','filming','schedules',',','70-minute','episode','might','arrive','broadcasting','station','seven','separate','tapes','ten-minute','installments','.','it','happened','episode','broadcast',',','crew','would','still','shooting','last','minutes','cutting','rest','episode','.','during','airing','nineteenth','episode','man','equator',',','screens','countrywide','went','black','10','minutes','.','actor','kwon','sang-woo','openly','complaining','still','shooting','king','ambition','30','minutes','last','episode','began','airing','.','[','43',']','in','south','korea',',','production','teams','still','planning','scheduling','manually',',','instead','using','dedicated','software','.','[','52',']','in','2016',',','dramas','descendants','sun',',','uncontrollably','fond',',','moon','lovers',':','scarlet','heart','ryeo','hwarang',':','the','poet','warrior','youth','pre-produced','airing','.','nonetheless',',','pre-produced','episodes','often','re-edited','even','reshot','day','airing',',','due','audience','feedback','.','[','49',']']\n"
          ]
        }
      ]
    },
    {
      "cell_type": "code",
      "source": [
        "from collections import Counter\n",
        "most_com_words=[]\n",
        "word_counts = Counter(lower_clean_data)\n",
        "most_com_words = word_counts.most_common()\n",
        "print(most_com_words)"
      ],
      "metadata": {
        "colab": {
          "base_uri": "https://localhost:8080/"
        },
        "id": "9rhs0rB_sTwj",
        "outputId": "5a55175c-0cbc-4286-d39f-efb3cd299ea2"
      },
      "execution_count": 13,
      "outputs": [
        {
          "output_type": "stream",
          "name": "stdout",
          "text": [
            "[(',', 27), ('.', 18), ('[', 8), (']', 8), ('production', 5), ('episode', 5), ('episodes', 4), ('time', 4), ('shooting', 4), ('airing', 4), ('series', 3), ('in', 3), ('korean', 3), ('usually', 3), ('shot', 3), ('feedback', 3), ('audience', 3), ('49', 3), ('the', 3), ('filming', 3), ('schedules', 3), ('actors', 3), (':', 3), ('due', 3), ('still', 3), ('minutes', 3), ('advance', 2), ('rest', 2), ('continuously', 2), ('may', 2), ('receive', 2), ('changes', 2), ('crew', 2), ('might', 2), ('tight', 2), ('set', 2), ('separate', 2), ('often', 2), ('within', 2), ('dramas', 2), ('two', 2), ('days', 2), ('43', 2), ('nonetheless', 2), ('teams', 2), ('tapes', 2), ('copy', 2), ('last', 2), ('pre-produced', 2), ('as', 1), ('producing', 1), ('involves', 1), ('high', 1), ('expenses', 1), ('companies', 1), ('seek', 1), ('shoot', 1), ('shortest', 1), ('possible', 1), ('contrast', 1), ('practices', 1), ('elsewhere', 1), ('first', 1), ('four', 1), ('aired', 1), ('scripts', 1), ('finished', 1), ('change', 1), ('according', 1), ('viewer', 1), ('viewership', 1), ('ratings', 1), ('popular', 1), ('characters', 1), ('increased', 1), ('screen', 1), ('plotlines', 1), ('changed', 1), ('match', 1), ('expectations', 1), ('these', 1), ('occur', 1), ('hours', 1), ('daily', 1), ('ready', 1), ('pages', 1), ('works', 1), ('three', 1), ('camera', 1), ('crews', 1), ('work', 1), ('rotating', 1), ('manner', 1), ('speed', 1), ('because', 1), ('unregulated', 1), ('script', 1), ('almost', 1), ('standby', 1), ('leave', 1), ('sleep', 1), ('properly', 1), ('media', 1), ('word', 1), ('describe', 1), ('irregular', 1), ('short', 1), ('sleeps', 1), ('resort', 1), ('uncomfortable', 1), ('positions', 1), ('jjok-jam', 1), ('(', 1), ('쪽잠', 1), (')', 1), ('``', 1), ('side-sleeping', 1), (\"''\", 1), ('air', 1), ('every', 1), ('week', 1), ('following', 1), ('intervening', 1), ('five', 1), ('some', 1), ('admitted', 1), ('receiving', 1), ('iv', 1), ('therapy', 1), ('extreme', 1), ('exhaustion', 1), ('50', 1), ('51', 1), ('live-shoot', 1), ('model', 1), ('remains', 1), ('widely', 1), ('used', 1), ('since', 1), ('team', 1), ('react', 1), ('real', 1), ('originally', 1), ('sent', 1), ('channels', 1), (';', 1), ('primary', 1), ('backup', 1), ('however', 1), ('70-minute', 1), ('arrive', 1), ('broadcasting', 1), ('station', 1), ('seven', 1), ('ten-minute', 1), ('installments', 1), ('it', 1), ('happened', 1), ('broadcast', 1), ('would', 1), ('cutting', 1), ('during', 1), ('nineteenth', 1), ('man', 1), ('equator', 1), ('screens', 1), ('countrywide', 1), ('went', 1), ('black', 1), ('10', 1), ('actor', 1), ('kwon', 1), ('sang-woo', 1), ('openly', 1), ('complaining', 1), ('king', 1), ('ambition', 1), ('30', 1), ('began', 1), ('south', 1), ('korea', 1), ('planning', 1), ('scheduling', 1), ('manually', 1), ('instead', 1), ('using', 1), ('dedicated', 1), ('software', 1), ('52', 1), ('2016', 1), ('descendants', 1), ('sun', 1), ('uncontrollably', 1), ('fond', 1), ('moon', 1), ('lovers', 1), ('scarlet', 1), ('heart', 1), ('ryeo', 1), ('hwarang', 1), ('poet', 1), ('warrior', 1), ('youth', 1), ('re-edited', 1), ('even', 1), ('reshot', 1), ('day', 1)]\n"
          ]
        }
      ]
    },
    {
      "cell_type": "code",
      "source": [
        "import matplotlib.pyplot as plt\n",
        "from nltk.probability import FreqDist\n",
        "fd = FreqDist(lower_clean_data)\n",
        "fd.plot(30,cumulative=False)"
      ],
      "metadata": {
        "colab": {
          "base_uri": "https://localhost:8080/",
          "height": 350
        },
        "id": "HpiMMyb2tFpG",
        "outputId": "0348a532-c669-43d1-9bea-284e32360603"
      },
      "execution_count": 14,
      "outputs": [
        {
          "output_type": "display_data",
          "data": {
            "text/plain": [
              "<Figure size 432x288 with 1 Axes>"
            ],
            "image/png": "[encoded data removed]"
          },
          "metadata": {
            "needs_background": "light"
          }
        },
        {
          "output_type": "execute_result",
          "data": {
            "text/plain": [
              "<AxesSubplot:xlabel='Samples', ylabel='Counts'>"
            ]
          },
          "metadata": {},
          "execution_count": 14
        }
      ]
    },
    {
      "cell_type": "code",
      "source": [],
      "metadata": {
        "id": "EJaD4zEQtw2Z"
      },
      "execution_count": null,
      "outputs": []
    }
  ]
}